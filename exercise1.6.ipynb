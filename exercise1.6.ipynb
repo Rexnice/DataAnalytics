{
 "cells": [
  {
   "cell_type": "markdown",
   "id": "controlling-tanzania",
   "metadata": {},
   "source": [
    "# A)\n",
    "Import the dataset '30observations.csv' made up of 30 realizations of a random variable with unknown probability distribution. Use a bootstrap technique in which $k$ samples of $m$ elements are extracted with repetition from the original observations to define a 95% confidence interval for its mean."
   ]
  },
  {
   "cell_type": "code",
   "execution_count": null,
   "id": "unsigned-raleigh",
   "metadata": {},
   "outputs": [],
   "source": [
    "import numpy as np\n",
    "import matplotlib.pyplot as plt\n",
    "\n",
    "observations = np.loadtxt('./data_ex1.6-1.7/30observations.csv')\n",
    "print(observations)\n",
    "print(f'the mean of the observations is {np.mean(observations)}')\n",
    "    "
   ]
  },
  {
   "cell_type": "code",
   "execution_count": null,
   "id": "former-investor",
   "metadata": {},
   "outputs": [],
   "source": [
    "k = 1000\n",
    "m = 10\n",
    "samples_mean = np.empty((k, 1))\n",
    "for i in range(k):\n",
    "    current_sample = np.random.choice(observations, m)  # random sampling with replacement\n",
    "    samples_mean[i] = np.mean(current_sample)\n",
    "alpha = 0.05\n",
    "alpha_half = alpha/2\n",
    "q_lower, q_upper = np.quantile(samples_mean, [alpha_half, 1-alpha_half])\n",
    "print(f'{alpha_half}%---{1-alpha_half}%')\n",
    "print([q_lower,q_upper])\n",
    "fig, (ax1, ax2) = plt.subplots(1,2, figsize=(15,5))\n",
    "ax1.hist(samples_mean, ec='black')\n",
    "ax1.vlines([q_lower,q_upper], ymin=0, ymax=100, color='r', label='quantiles')\n",
    "ax1.legend()\n",
    "ax2.boxplot(samples_mean, vert=False)"
   ]
  },
  {
   "cell_type": "markdown",
   "id": "abandoned-burlington",
   "metadata": {},
   "source": [
    "# B)\n",
    "Test the hypotheses $H_0:\\mu=25$, $H_1:\\mu\\neq 25$ with significance $0.01$. "
   ]
  },
  {
   "cell_type": "code",
   "execution_count": null,
   "id": "comfortable-profit",
   "metadata": {},
   "outputs": [],
   "source": [
    "mu = 25\n",
    "alpha = 0.01\n",
    "alpha_half = alpha/2\n",
    "q_lower, q_upper = np.quantile(samples_mean, [alpha_half, 1-alpha_half])\n",
    "if mu > q_lower and mu < q_upper:\n",
    "    print('H0 not rejected')\n",
    "else:\n",
    "    print('H0 rejected')\n",
    "print(f'{alpha_half}%---{1-alpha_half}%')\n",
    "print([q_lower,q_upper])\n",
    "plt.hist(samples_mean, ec='black')\n",
    "plt.vlines([q_lower,q_upper], ymin=0, ymax=100, color='r', label='quantiles')\n",
    "plt.vlines(mu, ymin=0, ymax=100, color='k', label='tested mean')\n",
    "plt.legend()"
   ]
  },
  {
   "cell_type": "code",
   "execution_count": null,
   "id": "pleasant-macedonia",
   "metadata": {},
   "outputs": [],
   "source": []
  }
 ],
 "metadata": {
  "kernelspec": {
   "display_name": "Python 3 (ipykernel)",
   "language": "python",
   "name": "python3"
  },
  "language_info": {
   "codemirror_mode": {
    "name": "ipython",
    "version": 3
   },
   "file_extension": ".py",
   "mimetype": "text/x-python",
   "name": "python",
   "nbconvert_exporter": "python",
   "pygments_lexer": "ipython3",
   "version": "3.12.2"
  }
 },
 "nbformat": 4,
 "nbformat_minor": 5
}
