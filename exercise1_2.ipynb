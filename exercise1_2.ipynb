{
  "cells": [
    {
      "cell_type": "markdown",
      "metadata": {
        "id": "view-in-github",
        "colab_type": "text"
      },
      "source": [
        "<a href=\"https://colab.research.google.com/github/Rexnice/DataAnalytics/blob/master/exercise1_2.ipynb\" target=\"_parent\"><img src=\"https://colab.research.google.com/assets/colab-badge.svg\" alt=\"Open In Colab\"/></a>"
      ]
    },
    {
      "cell_type": "code",
      "execution_count": null,
      "metadata": {
        "id": "9IwyY-wf4x28"
      },
      "outputs": [],
      "source": [
        "from IPython.core.display import display, HTML\n",
        "display(HTML(\"<style>.container {​​​​​ width:100% !important; }​​​​​</style>\"))"
      ]
    },
    {
      "cell_type": "markdown",
      "metadata": {
        "id": "htQQdVOQ4x2-"
      },
      "source": [
        "# A)\n",
        "Consider the file 'X.csv', compute the VARIANCE with the numpy function and with the alternative formula $=E\\left[x^2\\right]-E\\left[x\\right]^2$ and verify that they are equivalent."
      ]
    },
    {
      "cell_type": "code",
      "execution_count": null,
      "metadata": {
        "id": "fI_4bh1x4x3A"
      },
      "outputs": [],
      "source": [
        "import numpy as np\n",
        "\n",
        "X_list = [901.72, 732.84, 42.71, 975.68, 162.37,\n",
        "          608.76, 400.18, 293.33, 812.86, 247.2,\n",
        "          502.49, 693.65, 976.89, 878.55, 215.38,\n",
        "          609.58, 939.69, 691.36, 647.02, 635.36]\n",
        "X_array = np.array(X_list)\n",
        "print(X_array)"
      ]
    },
    {
      "cell_type": "code",
      "execution_count": null,
      "metadata": {
        "id": "lQ5kIbsw4x3B"
      },
      "outputs": [],
      "source": [
        "Xsquare_array = X_array**2\n",
        "print(Xsquare_array)"
      ]
    },
    {
      "cell_type": "code",
      "execution_count": null,
      "metadata": {
        "id": "i5y8gGab4x3C"
      },
      "outputs": [],
      "source": [
        "variance = np.std(X_array)**2\n",
        "expected_X = np.mean(X_array)\n",
        "expected_Xsquare = np.mean(Xsquare_array)\n",
        "variance_alternative = expected_Xsquare - expected_X**2\n",
        "print(f'variance standard formula {variance},\\nvariance alternative formula {variance_alternative}')"
      ]
    },
    {
      "cell_type": "markdown",
      "metadata": {
        "id": "UKFv6oTR4x3D"
      },
      "source": [
        "# B)\n",
        "Consider a sample made up of 10 values with $\\mu=4.2$ and $\\sigma=2.3$. Assuming to add to the sample a further value $7.0$, exploit the alternative formula to compute the new standard deviation without knowing the values of the previous 10 observations."
      ]
    },
    {
      "cell_type": "code",
      "execution_count": null,
      "metadata": {
        "id": "R7jz6EDH4x3E"
      },
      "outputs": [],
      "source": [
        "mu = 4.2\n",
        "sigma = 2.3\n",
        "variance = sigma**2\n",
        "\n",
        "expected_X = mu\n",
        "expected_Xsquare = variance + expected_X**2\n",
        "# sigma**2 = E[X**2] - E[X]**2 ---> E[X**2] = sigma**2 + E[X]**2\n",
        "\n",
        "updated_expected_X = (expected_X*10 + 7)/11\n",
        "updated_expected_Xsquare = (expected_Xsquare*10 + 7**2)/11\n",
        "updated_variance = updated_expected_Xsquare - updated_expected_X**2\n",
        "print(f'old variance {variance},\\nvariance updated {updated_variance}')\n",
        "print(f'old std {sigma},\\nstd updated {np.sqrt(updated_variance)}')\n",
        "\n"
      ]
    },
    {
      "cell_type": "code",
      "execution_count": null,
      "metadata": {
        "id": "51Kfit2s4x3E"
      },
      "outputs": [],
      "source": []
    }
  ],
  "metadata": {
    "kernelspec": {
      "display_name": "Python 3 (ipykernel)",
      "language": "python",
      "name": "python3"
    },
    "language_info": {
      "codemirror_mode": {
        "name": "ipython",
        "version": 3
      },
      "file_extension": ".py",
      "mimetype": "text/x-python",
      "name": "python",
      "nbconvert_exporter": "python",
      "pygments_lexer": "ipython3",
      "version": "3.12.2"
    },
    "colab": {
      "provenance": [],
      "include_colab_link": true
    }
  },
  "nbformat": 4,
  "nbformat_minor": 0
}