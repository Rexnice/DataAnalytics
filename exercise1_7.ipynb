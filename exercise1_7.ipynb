{
  "cells": [
    {
      "cell_type": "markdown",
      "metadata": {
        "id": "view-in-github",
        "colab_type": "text"
      },
      "source": [
        "<a href=\"https://colab.research.google.com/github/Rexnice/DataAnalytics/blob/master/exercise1_7.ipynb\" target=\"_parent\"><img src=\"https://colab.research.google.com/assets/colab-badge.svg\" alt=\"Open In Colab\"/></a>"
      ]
    },
    {
      "cell_type": "markdown",
      "id": "turkish-visibility",
      "metadata": {
        "id": "turkish-visibility"
      },
      "source": [
        "# A)\n",
        "Import dataset 'XY.csv' with 49 observations of two random variables $X$ and $Y$. Compute their Pearson correlation coefficient. Use a reshuffling technique to build an empirical distribution of their 'reshuffled correlation values' and test the hypotheses $H_0: \\mbox{'no significant correlation'}$, $H_1: \\mbox{'significant correlation'}$ with $0.05$ of significance."
      ]
    },
    {
      "cell_type": "code",
      "execution_count": null,
      "id": "registered-gather",
      "metadata": {
        "id": "registered-gather"
      },
      "outputs": [],
      "source": [
        "import numpy as np\n",
        "import matplotlib.pyplot as plt\n",
        "\n",
        "observations = np.loadtxt('./data_ex1.6-1.7/XY.csv', delimiter=',')\n",
        "X = observations[:, 0]\n",
        "Y = observations[:, 1]\n",
        "\n",
        "print(np.hstack((X[:, np.newaxis],Y[:, np.newaxis])))"
      ]
    },
    {
      "cell_type": "code",
      "execution_count": null,
      "id": "needed-advice",
      "metadata": {
        "id": "needed-advice"
      },
      "outputs": [],
      "source": [
        "corr = np.corrcoef(X, Y)\n",
        "print(corr)\n",
        "corr = corr[0, 1]\n",
        "print(corr)"
      ]
    },
    {
      "cell_type": "code",
      "execution_count": null,
      "id": "smooth-target",
      "metadata": {
        "id": "smooth-target"
      },
      "outputs": [],
      "source": [
        "k = 1000\n",
        "shuffle_corr = np.empty((k, 1))\n",
        "for i in range(k):\n",
        "    np.random.shuffle(Y)\n",
        "   # print(Y)\n",
        "    shuffle_corr[i, 0] = np.corrcoef(X, Y)[0, 1]\n",
        "\n",
        "alpha = 0.05\n",
        "alpha_half = alpha/2\n",
        "q_lower, q_upper = np.quantile(shuffle_corr, [alpha_half, 1-alpha_half])\n",
        "\n",
        "print(f'{alpha_half}%---{1-alpha_half}%')\n",
        "print([q_lower,q_upper])\n",
        "\n",
        "if corr > q_lower and corr < q_upper:\n",
        "    print('H0 not rejected')\n",
        "else:\n",
        "    print('H0 rejected')\n",
        "\n",
        "plt.hist(shuffle_corr, ec='black')\n",
        "plt.vlines([q_lower,q_upper], ymin=0, ymax=100, color='r', label='quantiles')\n",
        "plt.vlines(corr, ymin=0, ymax=100, color='k', label='original correlation')\n",
        "plt.legend()"
      ]
    },
    {
      "cell_type": "code",
      "execution_count": null,
      "id": "2df09b10",
      "metadata": {
        "id": "2df09b10"
      },
      "outputs": [],
      "source": []
    }
  ],
  "metadata": {
    "kernelspec": {
      "display_name": "Python 3 (ipykernel)",
      "language": "python",
      "name": "python3"
    },
    "language_info": {
      "codemirror_mode": {
        "name": "ipython",
        "version": 3
      },
      "file_extension": ".py",
      "mimetype": "text/x-python",
      "name": "python",
      "nbconvert_exporter": "python",
      "pygments_lexer": "ipython3",
      "version": "3.12.2"
    },
    "colab": {
      "provenance": [],
      "include_colab_link": true
    }
  },
  "nbformat": 4,
  "nbformat_minor": 5
}