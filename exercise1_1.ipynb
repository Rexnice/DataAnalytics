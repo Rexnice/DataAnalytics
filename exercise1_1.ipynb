{
  "cells": [
    {
      "cell_type": "markdown",
      "metadata": {
        "id": "view-in-github",
        "colab_type": "text"
      },
      "source": [
        "<a href=\"https://colab.research.google.com/github/Rexnice/DataAnalytics/blob/master/exercise1_1.ipynb\" target=\"_parent\"><img src=\"https://colab.research.google.com/assets/colab-badge.svg\" alt=\"Open In Colab\"/></a>"
      ]
    },
    {
      "cell_type": "code",
      "execution_count": null,
      "metadata": {
        "id": "e8rBl3tR4Uwr"
      },
      "outputs": [],
      "source": [
        "from IPython.core.display import display, HTML\n",
        "display(HTML(\"<style>.container {​​​​​ width:100% !important; }​​​​​</style>\"))"
      ]
    },
    {
      "cell_type": "markdown",
      "metadata": {
        "id": "gihUuteg4Uww"
      },
      "source": [
        "# A)\n",
        "Consider the dataset 'exam_results.csv'. Compute the MEAN, the STANDARD DEVIATION and the VARIANCE of the exam grades among all students."
      ]
    },
    {
      "cell_type": "code",
      "execution_count": null,
      "metadata": {
        "id": "4ZUfp7nM4Uwz",
        "outputId": "386ed03a-8c8d-4307-d786-2e64a772f2a1"
      },
      "outputs": [
        {
          "name": "stdout",
          "output_type": "stream",
          "text": [
            "[[ 1 26]\n",
            " [ 2 24]\n",
            " [ 3 26]\n",
            " [ 4 24]\n",
            " [ 5 23]\n",
            " [ 6 26]\n",
            " [ 7 24]\n",
            " [ 8 26]\n",
            " [ 9 27]\n",
            " [10 22]\n",
            " [11 26]\n",
            " [12 22]\n",
            " [13 23]\n",
            " [14 23]\n",
            " [15 25]\n",
            " [16 24]\n",
            " [17 27]\n",
            " [18 25]\n",
            " [19 23]\n",
            " [20 24]]\n"
          ]
        }
      ],
      "source": [
        "import numpy as np\n",
        "import matplotlib.pyplot as plt\n",
        "\n",
        "exam_list = [[1, 26], [2, 24], [3, 26], [4, 24], [5, 23],\n",
        "             [6, 26], [7, 24], [8, 26], [9, 27], [10, 22],\n",
        "             [11, 26], [12, 22], [13, 23], [14, 23], [15, 25],\n",
        "             [16, 24], [17, 27],[18, 25], [19, 23], [20, 24]]\n",
        "\n",
        "exam_array = np.array(exam_list)\n",
        "print(exam_array)"
      ]
    },
    {
      "cell_type": "code",
      "execution_count": null,
      "metadata": {
        "id": "GFjtBaZ84Uw0",
        "outputId": "72d88023-86c2-4b36-f6bf-60b5075bf2e1"
      },
      "outputs": [
        {
          "name": "stdout",
          "output_type": "stream",
          "text": [
            "grades mean:  24.5\n",
            "grades standard deviation:  1.5329709716755893\n",
            "grades variance:  2.35\n"
          ]
        }
      ],
      "source": [
        "mean_exam = exam_array[:,1].mean()\n",
        "std_exam = exam_array[:,1].std()\n",
        "print('grades mean: ', mean_exam)\n",
        "print('grades standard deviation: ', std_exam)\n",
        "print('grades variance: ', std_exam**2)\n"
      ]
    },
    {
      "cell_type": "markdown",
      "metadata": {
        "id": "hzOoUojI4Uw1"
      },
      "source": [
        "# B)\n",
        "The numpy std() function adopts the \"biased\" formula for the standard deviation, that is\n",
        "$$ \\sqrt{\\frac{\\sum\\limits_{i=1,n}|x_i-\\bar x|^2}{n}},$$\n",
        "where $\\bar x$ is the mean value computed on the sample. Since the \"biased\" formula tends to understimate the real standard deviation, the \"unbiased\" version with the Bessel's correction factor is as follows\n",
        "$$ \\sqrt{\\frac{\\sum\\limits_{i=1,n}|x_i-\\bar x|^2}{n-1}}.$$\n",
        "Define a python function taking as input an array and prducing as output the unbiased standard deviation computed on the array elements, and use it to compute the unbiased standard deviation of the exam grades.\n"
      ]
    },
    {
      "cell_type": "code",
      "execution_count": null,
      "metadata": {
        "id": "cKQ0tm0R4Uw2",
        "outputId": "357bea86-d1e7-4068-deea-323b5869947a"
      },
      "outputs": [
        {
          "name": "stdout",
          "output_type": "stream",
          "text": [
            "1.5727950313140984\n"
          ]
        }
      ],
      "source": [
        "def unbiased_std(a):\n",
        "    n = a.size\n",
        "    mean = a.mean()\n",
        "    sum_deviations = 0\n",
        "    for i in range(n):\n",
        "        sum_deviations += np.abs(a[i]-mean)**2\n",
        "    return np.sqrt(sum_deviations/(n-1))\n",
        "\n",
        "print(unbiased_std(exam_array[:,1]))"
      ]
    },
    {
      "cell_type": "markdown",
      "metadata": {
        "id": "Ey9gt0aJ4Uw3"
      },
      "source": [
        "# C)\n",
        "Consider the file 'student_grades.csv'. Compute the MEAN, the MEDIAN and the MODE of all the grades."
      ]
    },
    {
      "cell_type": "code",
      "execution_count": null,
      "metadata": {
        "id": "IvSGys014Uw4",
        "outputId": "56b229e7-95a0-49a5-db05-60ca9f1e17df"
      },
      "outputs": [
        {
          "name": "stdout",
          "output_type": "stream",
          "text": [
            "[18 18 23 23 23 23 24 24 24 24 24 25 25 26 26 26 26 30 30 30]\n"
          ]
        }
      ],
      "source": [
        "grades_list = [18, 18, 23, 23, 23, 23, 24, 24, 24, 24,\n",
        "        24, 25, 25, 26, 26, 26, 26, 30, 30, 30]\n",
        "grades_array = np.array(grades_list)\n",
        "print(grades_array)"
      ]
    },
    {
      "cell_type": "code",
      "execution_count": null,
      "metadata": {
        "id": "jEiPGSAG4Uw4",
        "outputId": "b405e516-d16d-4a79-8d79-556a2709a068"
      },
      "outputs": [
        {
          "name": "stdout",
          "output_type": "stream",
          "text": [
            "ModeResult(mode=24, count=5)\n",
            "Mean:  24.6\n",
            "Median:  24.0\n",
            "Mode 24 with 5 occurrences\n"
          ]
        }
      ],
      "source": [
        "from scipy.stats import mode\n",
        "\n",
        "grades_mean = np.mean(grades_array)\n",
        "grades_median = np.median(grades_array)\n",
        "mode_results = mode(grades_array)  # mode() returns an \"ModeResult\" object with attributes mode and count\n",
        "print(mode_results)\n",
        "grades_mode = int(mode_results.mode)\n",
        "mode_occurrences = int(mode_results.count)\n",
        "print('Mean: ', grades_mean)\n",
        "print('Median: ', grades_median)\n",
        "print(f'Mode {grades_mode} with {mode_occurrences} occurrences')"
      ]
    },
    {
      "cell_type": "markdown",
      "metadata": {
        "id": "3ojEMccH4Uw5"
      },
      "source": [
        "# D)\n",
        "Recalling that the Gini Coefficient is computed as $$G=\\frac{\\sum\\limits_{i=1,n}\\sum\\limits_{j=1,n}|x_i-x_j| }{2n\\sum\\limits_{i=1,n}x_i},$$ define a python function gini_coef() computing the Gini coefficient. Consider the dataset '2students_grades.csv'. Apply gini_coef() to compare the spread of the 2 students grades."
      ]
    },
    {
      "cell_type": "code",
      "execution_count": null,
      "metadata": {
        "id": "lE-LEVVi4Uw6"
      },
      "outputs": [],
      "source": [
        "def gini_coef(data):\n",
        "    n = data.shape[0]\n",
        "    deviations_sum = 0\n",
        "    for i in range(n):\n",
        "        for j in range(n):\n",
        "            deviations_sum += np.abs(data[i]-data[j])\n",
        "    return deviations_sum/(2*n*np.sum(data))"
      ]
    },
    {
      "cell_type": "code",
      "execution_count": null,
      "metadata": {
        "scrolled": true,
        "id": "PLToIcr24Uw6",
        "outputId": "a916aeeb-09f2-4bf8-c37a-1e06dd784206"
      },
      "outputs": [
        {
          "name": "stdout",
          "output_type": "stream",
          "text": [
            "[[26 18]\n",
            " [24 18]\n",
            " [26 18]\n",
            " [24 18]\n",
            " [23 18]\n",
            " [26 18]\n",
            " [24 18]\n",
            " [26 18]\n",
            " [27 18]\n",
            " [22 18]\n",
            " [26 18]\n",
            " [22 18]\n",
            " [23 18]\n",
            " [23 18]\n",
            " [25 18]\n",
            " [24 30]\n",
            " [27 30]\n",
            " [25 30]\n",
            " [23 30]\n",
            " [24 30]]\n"
          ]
        }
      ],
      "source": [
        "grades_students_list = [[26, 18], [24, 18], [26, 18], [24, 18], [23, 18],\n",
        "                        [26, 18], [24, 18], [26, 18], [27, 18], [22, 18],\n",
        "                        [26, 18], [22, 18], [23, 18], [23, 18], [25, 18],\n",
        "                        [24, 30], [27, 30], [25, 30], [23, 30], [24, 30]]\n",
        "grades_students_array = np.array(grades_students_list)\n",
        "print(grades_students_array)"
      ]
    },
    {
      "cell_type": "code",
      "execution_count": null,
      "metadata": {
        "id": "_2Jfpk_X4Uw7",
        "outputId": "84a8f99b-d4af-43c1-c48a-688119fcbaa9"
      },
      "outputs": [
        {
          "name": "stdout",
          "output_type": "stream",
          "text": [
            "Gini coeff. of student 1 0.03530612244897959\n",
            "Gini coeff. of student 2 0.10714285714285714\n"
          ]
        }
      ],
      "source": [
        "grades_student1 = grades_students_array[:, 0]\n",
        "grades_student2 = grades_students_array[:, 1]\n",
        "gini1 = gini_coef(grades_student1)\n",
        "gini2 = gini_coef(grades_student2)\n",
        "print(f'Gini coeff. of student 1 {gini1}')\n",
        "print(f'Gini coeff. of student 2 {gini2}')"
      ]
    },
    {
      "cell_type": "markdown",
      "metadata": {
        "id": "ECRKOYiR4Uw8"
      },
      "source": [
        "# E)\n",
        "Recalling that the Absolute Entropy is computed as $$H=-\\sum\\limits_{i=1,n}f_i\\log(f_i),$$ and that the Relative Entropy is computed as $$RH=\\frac{H}{\\log (n)},$$ consider dataset 'grades_frequency.csv' and use the entropy() function to compute the entropies of the grades frequencies, than modify the frequencies and observe the results."
      ]
    },
    {
      "cell_type": "code",
      "execution_count": null,
      "metadata": {
        "id": "KQaL6HFb4Uw8",
        "outputId": "82e96a9d-c738-467a-f804-a61425872b59"
      },
      "outputs": [
        {
          "name": "stdout",
          "output_type": "stream",
          "text": [
            "grades count array [100   3   3   3   3 100]\n",
            "grades frequency array [0.47169811 0.01415094 0.01415094 0.01415094 0.01415094 0.47169811]\n"
          ]
        },
        {
          "data": {
            "image/png": "[encoded data removed]",
            "text/plain": [
              "<Figure size 640x480 with 1 Axes>"
            ]
          },
          "metadata": {},
          "output_type": "display_data"
        },
        {
          "name": "stdout",
          "output_type": "stream",
          "text": [
            "Absolute Entropy: 0.9499004979661841\n",
            "Relative Entropy: 0.5301495620812489\n"
          ]
        }
      ],
      "source": [
        "from scipy.stats import entropy\n",
        "\n",
        "grades_count_dict = {'A':100, 'B':3, 'C':3, 'D':3, 'E':3, 'F':100}\n",
        "grades_count_list = list(grades_count_dict.values())\n",
        "grades_count_array = np.array(grades_count_list)\n",
        "n_exams = np.sum(grades_count_array)\n",
        "grades_freq_array = grades_count_array/n_exams\n",
        "\n",
        "print(f'grades count array {grades_count_array}')\n",
        "print(f'grades frequency array {grades_freq_array}')\n",
        "\n",
        "plt.bar(grades_count_dict.keys(), grades_freq_array)\n",
        "plt.show()\n",
        "\n",
        "H = entropy(grades_freq_array)\n",
        "RH = H/np.log(grades_freq_array.size)\n",
        "\n",
        "print('Absolute Entropy:', H)\n",
        "print('Relative Entropy:', RH)"
      ]
    },
    {
      "cell_type": "code",
      "execution_count": null,
      "metadata": {
        "id": "drF2yKuy4Uw9"
      },
      "outputs": [],
      "source": []
    }
  ],
  "metadata": {
    "kernelspec": {
      "display_name": "Python 3 (ipykernel)",
      "language": "python",
      "name": "python3"
    },
    "language_info": {
      "codemirror_mode": {
        "name": "ipython",
        "version": 3
      },
      "file_extension": ".py",
      "mimetype": "text/x-python",
      "name": "python",
      "nbconvert_exporter": "python",
      "pygments_lexer": "ipython3",
      "version": "3.12.2"
    },
    "colab": {
      "provenance": [],
      "include_colab_link": true
    }
  },
  "nbformat": 4,
  "nbformat_minor": 0
}