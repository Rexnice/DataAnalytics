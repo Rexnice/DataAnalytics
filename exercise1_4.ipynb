{
  "cells": [
    {
      "cell_type": "markdown",
      "metadata": {
        "id": "view-in-github",
        "colab_type": "text"
      },
      "source": [
        "<a href=\"https://colab.research.google.com/github/Rexnice/DataAnalytics/blob/master/exercise1_4.ipynb\" target=\"_parent\"><img src=\"https://colab.research.google.com/assets/colab-badge.svg\" alt=\"Open In Colab\"/></a>"
      ]
    },
    {
      "cell_type": "code",
      "execution_count": null,
      "metadata": {
        "id": "_sg1lMnN5Vti"
      },
      "outputs": [],
      "source": [
        "from IPython.core.display import display, HTML\n",
        "display(HTML(\"<style>.container {​​​​​ width:100% !important; }​​​​​</style>\"))"
      ]
    },
    {
      "cell_type": "markdown",
      "metadata": {
        "id": "RIXlRD4R5Vtl"
      },
      "source": [
        "# A)\n",
        "Extract a sequence of 1000 observations from a uniform distribution in the interval $\\left[0,5\\right]$. Compute the **iterative mean** and the **iterative standard deviation** of the 1000 observations (the iterative mean/st.dev at iteration $k$ is the mean/st.dev. of the first $k$ observations). Plot the iterative mean and standard deviation and observe the behaviors."
      ]
    },
    {
      "cell_type": "code",
      "execution_count": null,
      "metadata": {
        "id": "NaM4LVkg5Vtp"
      },
      "outputs": [],
      "source": [
        "import numpy as np\n",
        "import matplotlib.pyplot as plt\n",
        "\n",
        "float_formatter = \"{:.2f}\".format\n",
        "np.set_printoptions(formatter = {'float_kind':float_formatter}, threshold = 1000)\n",
        "\n",
        "observations = np.random.uniform(low=0.0, high=5.0, size=(1000,1))\n",
        "print(observations)"
      ]
    },
    {
      "cell_type": "code",
      "execution_count": null,
      "metadata": {
        "id": "WwBqjyMX5Vtq"
      },
      "outputs": [],
      "source": [
        "iter_mean = np.empty((0, 1))\n",
        "iter_stdev = np.empty((0, 1))\n",
        "\n",
        "\n",
        "for i in range(observations.size):\n",
        "    iter_mean = np.append(iter_mean, values=np.mean(observations[:i+1]))\n",
        "    iter_stdev = np.append(iter_stdev, values=np.std(observations[:i+1]))\n",
        "\n",
        "\n",
        "print(np.hstack((observations, iter_mean[:, np.newaxis], iter_stdev[:, np.newaxis])))\n",
        "\n"
      ]
    },
    {
      "cell_type": "code",
      "execution_count": null,
      "metadata": {
        "id": "pwz9D3zc5Vtr"
      },
      "outputs": [],
      "source": [
        "plt.plot(iter_mean, 'b', label='mean')\n",
        "plt.plot(iter_stdev**2, 'r', label='var')\n",
        "\n",
        "plt.legend()"
      ]
    },
    {
      "cell_type": "code",
      "execution_count": null,
      "metadata": {
        "id": "gb7HCPO65Vts"
      },
      "outputs": [],
      "source": []
    }
  ],
  "metadata": {
    "kernelspec": {
      "display_name": "Python 3 (ipykernel)",
      "language": "python",
      "name": "python3"
    },
    "language_info": {
      "codemirror_mode": {
        "name": "ipython",
        "version": 3
      },
      "file_extension": ".py",
      "mimetype": "text/x-python",
      "name": "python",
      "nbconvert_exporter": "python",
      "pygments_lexer": "ipython3",
      "version": "3.12.2"
    },
    "colab": {
      "provenance": [],
      "include_colab_link": true
    }
  },
  "nbformat": 4,
  "nbformat_minor": 0
}