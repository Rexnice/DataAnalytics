{
  "cells": [
    {
      "cell_type": "markdown",
      "metadata": {
        "id": "view-in-github",
        "colab_type": "text"
      },
      "source": [
        "<a href=\"https://colab.research.google.com/github/Rexnice/DataAnalytics/blob/master/exercise1_5.ipynb\" target=\"_parent\"><img src=\"https://colab.research.google.com/assets/colab-badge.svg\" alt=\"Open In Colab\"/></a>"
      ]
    },
    {
      "cell_type": "markdown",
      "metadata": {
        "id": "7CSyK8Qb5euf"
      },
      "source": [
        "# A)\n",
        "Consider a normal distribution with $\\mu=5$ and $\\sigma=2$. Compute the probability of observing exactly value $5$ ($P(x=5)$), and of observing at most value $5$ ($P(x\\leq 5)$). How the previous probabilities are influnced by varying the standard deviation?"
      ]
    },
    {
      "cell_type": "code",
      "execution_count": null,
      "metadata": {
        "id": "JJ7pli6w5euh"
      },
      "outputs": [],
      "source": [
        "import numpy as np\n",
        "import matplotlib.pyplot as plt\n",
        "from scipy.stats import norm\n",
        "\n",
        "mu = 5\n",
        "sigma = 2\n",
        "\n",
        "x = 5\n",
        "p = norm.pdf(x, loc=mu, scale=sigma)\n",
        "cum_p = norm.cdf(x, loc=mu, scale=sigma)\n",
        "\n",
        "print(f'mu {mu}, sigma {sigma}')\n",
        "print(f'the probability of observing {x} is', p)\n",
        "print(f'the probability of observing at most {x} is', cum_p)"
      ]
    },
    {
      "cell_type": "code",
      "execution_count": null,
      "metadata": {
        "id": "cWuAZswR5euk"
      },
      "outputs": [],
      "source": [
        "sigma_2 = 10\n",
        "\n",
        "p = norm.pdf(x, loc=mu, scale=sigma_2)\n",
        "cum_p = norm.cdf(x, loc=mu, scale=sigma_2)\n",
        "\n",
        "print(f'mu {mu}, sigma {sigma_2}')\n",
        "print(f'the probability of observing {x} is', p)\n",
        "print(f'the probability of observing at most {x} is', cum_p)\n",
        "\n",
        "values_domain = np.linspace(mu-3*sigma, mu+3*sigma, 100)  # array of 100 elements in the interval [mu-3sigma,mu+3sigma]\n",
        "values_domain_2 = np.linspace(mu-3*sigma_2, mu+3*sigma_2,100)\n",
        "plt.plot(values_domain, norm.pdf(values_domain, loc=mu, scale=sigma), label=f'mu {mu}, sigma {sigma}')\n",
        "plt.plot(values_domain_2, norm.pdf(values_domain_2, loc=mu, scale=sigma_2), label=f'mu {mu}, sigma {sigma_2}')\n",
        "plt.legend()"
      ]
    },
    {
      "cell_type": "markdown",
      "metadata": {
        "id": "tD9NUygw5eul"
      },
      "source": [
        "# B)\n",
        "Consider again a normal distribution with $\\mu=5$ and $\\sigma=2$. Compute the probability of observing exactly value $7$ and determine a further value $y$ with the same probability. Compute the probability of observing a value in the interval [$y$,7] (or [7,$y$] if $y>7$)."
      ]
    },
    {
      "cell_type": "code",
      "execution_count": null,
      "metadata": {
        "id": "gQIA0MAn5eul"
      },
      "outputs": [],
      "source": [
        "x = mu+sigma  # 7 = mu + sigma\n",
        "p_x = norm.pdf(x, loc=mu, scale=sigma)\n",
        "print(f'the probability of observing {x} is {p_x}')\n",
        "\n",
        "y = mu-sigma\n",
        "p_y = norm.pdf(y, loc=mu, scale=sigma)\n",
        "print(f'the probability of observing {y} is {p_y}')\n",
        "\n",
        "F_x = norm.cdf(x, loc=mu, scale=sigma)\n",
        "F_y = norm.cdf(y, loc=mu, scale=sigma)\n",
        "p_yx = F_x-F_y\n",
        "\n",
        "print(f'probability of observing a value in the interval [{y},{x}] is {p_yx}')\n",
        "\n",
        "\n",
        "plt.plot(values_domain, norm.pdf(values_domain, loc=mu, scale=sigma), label=f'mu {mu}, sigma {sigma}')\n",
        "plt.vlines(x, ymin=0, ymax=p_x, color='r')\n",
        "plt.vlines(y, ymin=0, ymax=p_y, color='r')\n",
        "plt.plot(x, p_x, 'ro')\n",
        "plt.plot(y, p_y, 'ro')"
      ]
    },
    {
      "cell_type": "markdown",
      "metadata": {
        "id": "mbd10laT5eum"
      },
      "source": [
        "# C)\n",
        "Consider again a normal distribution with $\\mu=5$ and $\\sigma=2$ and the value $x=7$. By standardizing $x$ we obtain the new variable $Z=\\frac{x-\\mu}{\\sigma}$. Verify that $N_{\\mu,\\sigma}(x)=\\frac{1}{\\sigma}N_{0,1}(\\frac{x-\\mu}{\\sigma})=\\frac{1}{\\sigma}N(Z)$, and that $\\phi_{\\mu,\\sigma}(x)=\\phi_{0,1}(\\frac{x-\\mu}{\\sigma})=\\phi(Z)$."
      ]
    },
    {
      "cell_type": "code",
      "execution_count": null,
      "metadata": {
        "id": "MZFFfL5j5eun"
      },
      "outputs": [],
      "source": [
        "print(f'probability of observing {x} is {p_x}, of observing at most {x} is {F_x}')\n",
        "\n",
        "Z = (x-mu)/sigma\n",
        "print(f'the Z value is {Z}')\n",
        "\n",
        "p_Z = norm.pdf(Z, loc=0, scale=1)\n",
        "F_Z = norm.cdf(Z, loc=0, scale=1)\n",
        "\n",
        "print(f'probability of observing Z is {p_Z}, of observing at most Z is {F_Z}')\n",
        "print(p_Z/sigma)"
      ]
    },
    {
      "cell_type": "markdown",
      "metadata": {
        "id": "uCzq6_qH5eun"
      },
      "source": [
        "# D)\n",
        "Consider a sample of $n_t$ observations of a random variable $X$ for which each single observation consists in the sum of $n_s$ observations of the uniform distribution in the interval $\\left[0,1\\right]$. Observe the behavior of $X$ for different values of $n_t$ and $n_s$ by using histogram plots and compare it with $n_t$ observations of a random variable $U$ from a uniform distribution in the interval $\\left[0,1\\right]$ .\n"
      ]
    },
    {
      "cell_type": "code",
      "execution_count": null,
      "metadata": {
        "id": "Ms68_ecY5eup"
      },
      "outputs": [],
      "source": [
        "n_t = 1000 # Number of total samples from the uniform distributon and from the X distribution\n",
        "n_s = 5  # Number of times different uniform distributions are added\n",
        "\n",
        "\n",
        "X = np.zeros((n_t, 1))\n",
        "\n",
        "for i in range(n_s):\n",
        "    X = X+np.random.uniform(low=0.0, high=1.0, size=(n_t, 1))\n",
        "\n",
        "U = np.random.uniform(low=0.0, high=1.0, size=(n_t, 1))\n",
        "\n",
        "plt.hist(U, ec='black',label='U: uniform')\n",
        "plt.hist(X, ec='black',label='X: sum of uniform',alpha=0.5)\n",
        "plt.legend()\n"
      ]
    },
    {
      "cell_type": "code",
      "execution_count": null,
      "metadata": {
        "id": "aBz4VcSl5eup"
      },
      "outputs": [],
      "source": []
    }
  ],
  "metadata": {
    "kernelspec": {
      "display_name": "Python 3 (ipykernel)",
      "language": "python",
      "name": "python3"
    },
    "language_info": {
      "codemirror_mode": {
        "name": "ipython",
        "version": 3
      },
      "file_extension": ".py",
      "mimetype": "text/x-python",
      "name": "python",
      "nbconvert_exporter": "python",
      "pygments_lexer": "ipython3",
      "version": "3.12.2"
    },
    "colab": {
      "provenance": [],
      "include_colab_link": true
    }
  },
  "nbformat": 4,
  "nbformat_minor": 0
}